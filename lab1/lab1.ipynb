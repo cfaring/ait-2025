{
 "cells": [
  {
   "cell_type": "markdown",
   "metadata": {},
   "source": [
    "# Лабораторная работа №1: Pandas\n"
   ]
  },
  {
   "cell_type": "markdown",
   "metadata": {},
   "source": [
    "Yelp — веб-сайт для поиска на местном рынке услуг, например ресторанов или парикмахерских, с возможностью добавлять и просматривать рейтинги и обзоры этих услуг. Для популярных бизнесов имеются сотни обзоров. Для обозревателей на сайте предусмотрены элементы социальной сети.\n",
    "\n",
    "---\n",
    "\n",
    "yelp_academic_dataset_business.json\n",
    "| Признак      | Описание                                  | Тип     |\n",
    "| ------------ | ----------------------------------------- | ------- |\n",
    "| business_id  | Уникальный идентификатор компании         | object  |\n",
    "| name         | Название компании                         | object  |\n",
    "| address      | Адрес компании                            | object  |\n",
    "| city         | Город, в котором находится компания       | object  |\n",
    "| state        | Штат, в котором находится компания        | object  |\n",
    "| postal_code  | Почтовый индекс                           | object  |\n",
    "| latitude     | Широта                                    | float64 |\n",
    "| longitude    | Долгота                                   | float64 |\n",
    "| stars        | Рейтинг компании (от 1 до 5)              | float64 |\n",
    "| review_count | Количество отзывов                        | int64   |\n",
    "| is_open      | Статус работы компании (1 — да, 0 — нет)  | int64   |\n",
    "| attributes   | Атрибуты компании (например, доступность) | object  |\n",
    "| categories   | Категории услуг компании                  | object  |\n",
    "| hours        | Часы работы компании                      | object  |\n",
    "\n",
    "yelp_academic_dataset_review.json\n",
    "| Признак     | Описание                              | Тип        |\n",
    "| ----------- | ------------------------------------- | ---------- |\n",
    "| review_id   | Уникальный идентификатор отзыва       | object     |\n",
    "| user_id     | Уникальный идентификатор пользователя | object     |\n",
    "| business_id | Уникальный идентификатор компании     | object     |\n",
    "| stars       | Рейтинг отзыва (от 1 до 5)            | int64      |\n",
    "| useful      | Количество полезных голосов           | int64      |\n",
    "| funny       | Количество голосов \"смешно\"           | int64      |\n",
    "| cool        | Количество голосов \"классно\"          | int64      |\n",
    "| text        | Текст отзыва                          | object     |\n",
    "| date        | Дата написания отзыва                 | datetime64 |"
   ]
  },
  {
   "cell_type": "markdown",
   "metadata": {},
   "source": [
    "## Считывание датасетов"
   ]
  },
  {
   "cell_type": "code",
   "execution_count": 9,
   "metadata": {},
   "outputs": [],
   "source": [
    "import numpy as np\n",
    "import pandas as pd\n",
    "import matplotlib.pyplot as plt\n",
    "import seaborn as sns\n",
    "\n",
    "sns.set(style='whitegrid', font_scale=1.3, palette='Set2')"
   ]
  },
  {
   "cell_type": "code",
   "execution_count": 10,
   "metadata": {},
   "outputs": [],
   "source": [
    "data_business = pd.read_json('yelp_academic_dataset_business.json', lines=True)\n"
   ]
  },
  {
   "cell_type": "code",
   "execution_count": null,
   "metadata": {},
   "outputs": [],
   "source": [
    "data_review = pd.read_json('yelp_academic_dataset_review.json', lines=True)"
   ]
  },
  {
   "cell_type": "markdown",
   "metadata": {},
   "source": [
    "## Типичные операции над датафреймом"
   ]
  },
  {
   "cell_type": "markdown",
   "metadata": {},
   "source": []
  }
 ],
 "metadata": {
  "kernelspec": {
   "display_name": "nir",
   "language": "python",
   "name": "python3"
  },
  "language_info": {
   "codemirror_mode": {
    "name": "ipython",
    "version": 3
   },
   "file_extension": ".py",
   "mimetype": "text/x-python",
   "name": "python",
   "nbconvert_exporter": "python",
   "pygments_lexer": "ipython3",
   "version": "3.10.15"
  }
 },
 "nbformat": 4,
 "nbformat_minor": 2
}
