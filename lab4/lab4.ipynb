{
  "cells": [
    {
      "cell_type": "markdown",
      "metadata": {},
      "source": [
        "# Лабораторная работа №4: Классификация. Деревья решений\n",
        "\n",
        "## Описание датасета\n",
        "\n",
        "Датасет \"Breast_Cancer.csv\" содержит данные о пациентах с диагнозом рака молочной железы. Целевая переменная — `Status` (Alive/Dead), указывающая, выжил ли пациент. Признаки включают демографические данные, характеристики опухоли и результаты лечения:\n",
        "\n",
        "- **Age**: Возраст пациента (число).\n",
        "- **Race**: Раса (White, Black, Other).\n",
        "- **Marital Status**: Семейное положение (Married, Single, Divorced, Widowed, Separated).\n",
        "- **T Stage**: Стадия опухоли по TNM (T1, T2, T3, T4).\n",
        "- **N Stage**: Стадия лимфатических узлов (N1, N2, N3).\n",
        "- **6th Stage**: Общая стадия заболевания (IIA, IIB, IIIA, IIIB, IIIC).\n",
        "- **differentiate**: Степень дифференцировки опухоли (Poorly differentiated, Moderately differentiated, Well differentiated, Undifferentiated).\n",
        "- **Grade**: Грейд опухоли (1, 2, 3, 4).\n",
        "- **A Stage**: Стадия по AJCC (Regional, Distant).\n",
        "- **Tumor Size**: Размер опухоли в мм (число).\n",
        "- **Estrogen Status**: Статус эстрогеновых рецепторов (Positive, Negative).\n",
        "- **Progesterone Status**: Статус прогестероновых рецепторов (Positive, Negative).\n",
        "- **Regional Node Examined**: Количество исследованных лимфоузлов (число).\n",
        "- **Reginol Node Positive**: Количество поражённых лимфоузлов (число).\n",
        "- **Survival Months**: Месяцы выживания (число).\n",
        "- **Status**: Целевая переменная (Alive, Dead).\n",
        "\n",
        "Задача: предсказать статус пациента (Alive/Dead) на основе признаков."
      ]
    },
    {
      "cell_type": "code",
      "execution_count": 178,
      "metadata": {},
      "outputs": [],
      "source": [
        "import pandas as pd\n",
        "import numpy as np\n",
        "from sklearn.model_selection import train_test_split, GridSearchCV\n",
        "from sklearn.preprocessing import LabelEncoder, StandardScaler\n",
        "from sklearn.tree import DecisionTreeClassifier, export_text\n",
        "from sklearn.ensemble import RandomForestClassifier\n",
        "from sklearn.neighbors import KNeighborsClassifier\n",
        "from sklearn.metrics import accuracy_score, precision_score, recall_score, f1_score\n",
        "import matplotlib.pyplot as plt\n",
        "%matplotlib inline"
      ]
    },
    {
      "cell_type": "markdown",
      "metadata": {},
      "source": [
        "## 1. Считывание и обзор данных\n"
      ]
    },
    {
      "cell_type": "code",
      "execution_count": 179,
      "metadata": {},
      "outputs": [
        {
          "name": "stdout",
          "output_type": "stream",
          "text": [
            "Размерность: (4024, 16)\n",
            "Колонки: ['Age', 'Race', 'Marital Status', 'T Stage ', 'N Stage', '6th Stage', 'differentiate', 'Grade', 'A Stage', 'Tumor Size', 'Estrogen Status', 'Progesterone Status', 'Regional Node Examined', 'Reginol Node Positive', 'Survival Months', 'Status']\n"
          ]
        },
        {
          "data": {
            "text/html": [
              "<div>\n",
              "<style scoped>\n",
              "    .dataframe tbody tr th:only-of-type {\n",
              "        vertical-align: middle;\n",
              "    }\n",
              "\n",
              "    .dataframe tbody tr th {\n",
              "        vertical-align: top;\n",
              "    }\n",
              "\n",
              "    .dataframe thead th {\n",
              "        text-align: right;\n",
              "    }\n",
              "</style>\n",
              "<table border=\"1\" class=\"dataframe\">\n",
              "  <thead>\n",
              "    <tr style=\"text-align: right;\">\n",
              "      <th></th>\n",
              "      <th>Age</th>\n",
              "      <th>Race</th>\n",
              "      <th>Marital Status</th>\n",
              "      <th>T Stage</th>\n",
              "      <th>N Stage</th>\n",
              "      <th>6th Stage</th>\n",
              "      <th>differentiate</th>\n",
              "      <th>Grade</th>\n",
              "      <th>A Stage</th>\n",
              "      <th>Tumor Size</th>\n",
              "      <th>Estrogen Status</th>\n",
              "      <th>Progesterone Status</th>\n",
              "      <th>Regional Node Examined</th>\n",
              "      <th>Reginol Node Positive</th>\n",
              "      <th>Survival Months</th>\n",
              "      <th>Status</th>\n",
              "    </tr>\n",
              "  </thead>\n",
              "  <tbody>\n",
              "    <tr>\n",
              "      <th>0</th>\n",
              "      <td>68</td>\n",
              "      <td>White</td>\n",
              "      <td>Married</td>\n",
              "      <td>T1</td>\n",
              "      <td>N1</td>\n",
              "      <td>IIA</td>\n",
              "      <td>Poorly differentiated</td>\n",
              "      <td>3</td>\n",
              "      <td>Regional</td>\n",
              "      <td>4</td>\n",
              "      <td>Positive</td>\n",
              "      <td>Positive</td>\n",
              "      <td>24</td>\n",
              "      <td>1</td>\n",
              "      <td>60</td>\n",
              "      <td>Alive</td>\n",
              "    </tr>\n",
              "    <tr>\n",
              "      <th>1</th>\n",
              "      <td>50</td>\n",
              "      <td>White</td>\n",
              "      <td>Married</td>\n",
              "      <td>T2</td>\n",
              "      <td>N2</td>\n",
              "      <td>IIIA</td>\n",
              "      <td>Moderately differentiated</td>\n",
              "      <td>2</td>\n",
              "      <td>Regional</td>\n",
              "      <td>35</td>\n",
              "      <td>Positive</td>\n",
              "      <td>Positive</td>\n",
              "      <td>14</td>\n",
              "      <td>5</td>\n",
              "      <td>62</td>\n",
              "      <td>Alive</td>\n",
              "    </tr>\n",
              "    <tr>\n",
              "      <th>2</th>\n",
              "      <td>58</td>\n",
              "      <td>White</td>\n",
              "      <td>Divorced</td>\n",
              "      <td>T3</td>\n",
              "      <td>N3</td>\n",
              "      <td>IIIC</td>\n",
              "      <td>Moderately differentiated</td>\n",
              "      <td>2</td>\n",
              "      <td>Regional</td>\n",
              "      <td>63</td>\n",
              "      <td>Positive</td>\n",
              "      <td>Positive</td>\n",
              "      <td>14</td>\n",
              "      <td>7</td>\n",
              "      <td>75</td>\n",
              "      <td>Alive</td>\n",
              "    </tr>\n",
              "    <tr>\n",
              "      <th>3</th>\n",
              "      <td>58</td>\n",
              "      <td>White</td>\n",
              "      <td>Married</td>\n",
              "      <td>T1</td>\n",
              "      <td>N1</td>\n",
              "      <td>IIA</td>\n",
              "      <td>Poorly differentiated</td>\n",
              "      <td>3</td>\n",
              "      <td>Regional</td>\n",
              "      <td>18</td>\n",
              "      <td>Positive</td>\n",
              "      <td>Positive</td>\n",
              "      <td>2</td>\n",
              "      <td>1</td>\n",
              "      <td>84</td>\n",
              "      <td>Alive</td>\n",
              "    </tr>\n",
              "    <tr>\n",
              "      <th>4</th>\n",
              "      <td>47</td>\n",
              "      <td>White</td>\n",
              "      <td>Married</td>\n",
              "      <td>T2</td>\n",
              "      <td>N1</td>\n",
              "      <td>IIB</td>\n",
              "      <td>Poorly differentiated</td>\n",
              "      <td>3</td>\n",
              "      <td>Regional</td>\n",
              "      <td>41</td>\n",
              "      <td>Positive</td>\n",
              "      <td>Positive</td>\n",
              "      <td>3</td>\n",
              "      <td>1</td>\n",
              "      <td>50</td>\n",
              "      <td>Alive</td>\n",
              "    </tr>\n",
              "  </tbody>\n",
              "</table>\n",
              "</div>"
            ],
            "text/plain": [
              "   Age   Race Marital Status T Stage  N Stage 6th Stage  \\\n",
              "0   68  White        Married       T1      N1       IIA   \n",
              "1   50  White        Married       T2      N2      IIIA   \n",
              "2   58  White       Divorced       T3      N3      IIIC   \n",
              "3   58  White        Married       T1      N1       IIA   \n",
              "4   47  White        Married       T2      N1       IIB   \n",
              "\n",
              "               differentiate Grade   A Stage  Tumor Size Estrogen Status  \\\n",
              "0      Poorly differentiated     3  Regional           4        Positive   \n",
              "1  Moderately differentiated     2  Regional          35        Positive   \n",
              "2  Moderately differentiated     2  Regional          63        Positive   \n",
              "3      Poorly differentiated     3  Regional          18        Positive   \n",
              "4      Poorly differentiated     3  Regional          41        Positive   \n",
              "\n",
              "  Progesterone Status  Regional Node Examined  Reginol Node Positive  \\\n",
              "0            Positive                      24                      1   \n",
              "1            Positive                      14                      5   \n",
              "2            Positive                      14                      7   \n",
              "3            Positive                       2                      1   \n",
              "4            Positive                       3                      1   \n",
              "\n",
              "   Survival Months Status  \n",
              "0               60  Alive  \n",
              "1               62  Alive  \n",
              "2               75  Alive  \n",
              "3               84  Alive  \n",
              "4               50  Alive  "
            ]
          },
          "metadata": {},
          "output_type": "display_data"
        },
        {
          "name": "stdout",
          "output_type": "stream",
          "text": [
            "<class 'pandas.core.frame.DataFrame'>\n",
            "RangeIndex: 4024 entries, 0 to 4023\n",
            "Data columns (total 16 columns):\n",
            " #   Column                  Non-Null Count  Dtype \n",
            "---  ------                  --------------  ----- \n",
            " 0   Age                     4024 non-null   int64 \n",
            " 1   Race                    4024 non-null   object\n",
            " 2   Marital Status          4024 non-null   object\n",
            " 3   T Stage                 4024 non-null   object\n",
            " 4   N Stage                 4024 non-null   object\n",
            " 5   6th Stage               4024 non-null   object\n",
            " 6   differentiate           4024 non-null   object\n",
            " 7   Grade                   4024 non-null   object\n",
            " 8   A Stage                 4024 non-null   object\n",
            " 9   Tumor Size              4024 non-null   int64 \n",
            " 10  Estrogen Status         4024 non-null   object\n",
            " 11  Progesterone Status     4024 non-null   object\n",
            " 12  Regional Node Examined  4024 non-null   int64 \n",
            " 13  Reginol Node Positive   4024 non-null   int64 \n",
            " 14  Survival Months         4024 non-null   int64 \n",
            " 15  Status                  4024 non-null   object\n",
            "dtypes: int64(5), object(11)\n",
            "memory usage: 503.1+ KB\n",
            "Пропуски по столбцам:\n",
            "Age                       0\n",
            "Race                      0\n",
            "Marital Status            0\n",
            "T Stage                   0\n",
            "N Stage                   0\n",
            "6th Stage                 0\n",
            "differentiate             0\n",
            "Grade                     0\n",
            "A Stage                   0\n",
            "Tumor Size                0\n",
            "Estrogen Status           0\n",
            "Progesterone Status       0\n",
            "Regional Node Examined    0\n",
            "Reginol Node Positive     0\n",
            "Survival Months           0\n",
            "Status                    0\n",
            "dtype: int64\n"
          ]
        }
      ],
      "source": [
        "df = pd.read_csv('Breast_Cancer.csv')\n",
        "print('Размерность:', df.shape)\n",
        "print('Колонки:', df.columns.tolist())\n",
        "display(df.head())\n",
        "df.info()\n",
        "print('Пропуски по столбцам:')\n",
        "print(df.isnull().sum())"
      ]
    },
    {
      "cell_type": "markdown",
      "metadata": {},
      "source": [
        "## 2. Предобработка данных\n"
      ]
    },
    {
      "cell_type": "code",
      "execution_count": 180,
      "metadata": {},
      "outputs": [],
      "source": [
        "# Удаляем пропуски\n",
        "df = df.dropna()\n",
        "\n",
        "# Кодируем целевую переменную\n",
        "le = LabelEncoder()\n",
        "y = le.fit_transform(df['Status'])  # Alive=0, Dead=1\n",
        "\n",
        "# Отбрасываем неинформативные признаки\n",
        "X = df.drop(columns=['Status', 'Survival Months'])\n",
        "\n",
        "# Кодируем категориальные признаки\n",
        "X = pd.get_dummies(X, drop_first=True)\n",
        "\n",
        "# Масштабирование признаков\n",
        "scaler = StandardScaler()\n",
        "X_scaled = scaler.fit_transform(X)\n",
        "\n",
        "# Разбиение выборки\n",
        "X_train, X_test, y_train, y_test = train_test_split(\n",
        "    X_scaled, y, test_size=0.2, random_state=42, stratify=y\n",
        ")"
      ]
    },
    {
      "cell_type": "markdown",
      "metadata": {},
      "source": [
        "## 3. Дерево решений"
      ]
    },
    {
      "cell_type": "markdown",
      "metadata": {},
      "source": [
        "GridSearchCV по DecisionTreeClassifier"
      ]
    },
    {
      "cell_type": "code",
      "execution_count": 181,
      "metadata": {},
      "outputs": [
        {
          "name": "stdout",
          "output_type": "stream",
          "text": [
            "Лучшие параметры DT: {'max_depth': 3, 'max_features': 'sqrt'}\n"
          ]
        }
      ],
      "source": [
        "param_grid_dt = {'max_depth': [None, 3, 5, 7, 10], 'max_features': [None, 'sqrt', 'log2']}\n",
        "gs_dt = GridSearchCV(DecisionTreeClassifier(class_weight='balanced', random_state=42), param_grid_dt, cv=10, scoring='f1', n_jobs=-1)\n",
        "gs_dt.fit(X_train, y_train)\n",
        "best_dt = gs_dt.best_estimator_\n",
        "print('Лучшие параметры DT:', gs_dt.best_params_)"
      ]
    },
    {
      "cell_type": "markdown",
      "metadata": {},
      "source": [
        "Метрики на тренировке:\n"
      ]
    },
    {
      "cell_type": "code",
      "execution_count": 182,
      "metadata": {},
      "outputs": [
        {
          "name": "stdout",
          "output_type": "stream",
          "text": [
            "{'accuracy': 0.6178937558247903, 'precision': 0.243205574912892, 'recall': 0.7079107505070994, 'f1': 0.3620331950207469}\n"
          ]
        }
      ],
      "source": [
        "y_pred_tr = best_dt.predict(X_train)\n",
        "print({\n",
        "    'accuracy': accuracy_score(y_train, y_pred_tr),\n",
        "    'precision': precision_score(y_train, y_pred_tr),\n",
        "    'recall': recall_score(y_train, y_pred_tr),\n",
        "    'f1': f1_score(y_train, y_pred_tr)\n",
        "})"
      ]
    },
    {
      "cell_type": "markdown",
      "metadata": {},
      "source": [
        "Важности признаков и отбор:"
      ]
    },
    {
      "cell_type": "code",
      "execution_count": 183,
      "metadata": {},
      "outputs": [
        {
          "name": "stdout",
          "output_type": "stream",
          "text": [
            "Top-10 важностей DT:\n",
            " Reginol Node Positive                  0.279641\n",
            "differentiate_Poorly differentiated    0.246989\n",
            "N Stage_N3                             0.184334\n",
            "Grade_2                                0.131906\n",
            "Estrogen Status_Positive               0.080625\n",
            "differentiate_Well differentiated      0.076505\n",
            "6th Stage_IIB                          0.000000\n",
            "A Stage_Regional                       0.000000\n",
            "Grade_3                                0.000000\n",
            "Grade_1                                0.000000\n",
            "dtype: float64\n",
            "Отобранные признаки DT: ['Reginol Node Positive', 'differentiate_Poorly differentiated', 'N Stage_N3', 'Grade_2', 'Estrogen Status_Positive', 'differentiate_Well differentiated']\n"
          ]
        }
      ],
      "source": [
        "importances_dt = pd.Series(best_dt.feature_importances_, index=X.columns).sort_values(ascending=False)\n",
        "print('Top-10 важностей DT:\\n', importances_dt.head(10))\n",
        "threshold_dt = importances_dt.mean()\n",
        "selected_dt = importances_dt[importances_dt > threshold_dt].index.tolist()\n",
        "print('Отобранные признаки DT:', selected_dt)"
      ]
    },
    {
      "cell_type": "markdown",
      "metadata": {},
      "source": [
        "Повторный GridSearchCV на X_train[:, selected]"
      ]
    },
    {
      "cell_type": "code",
      "execution_count": 184,
      "metadata": {},
      "outputs": [
        {
          "name": "stdout",
          "output_type": "stream",
          "text": [
            "DT после фильтрации, параметры: {'max_depth': 3, 'max_features': 'sqrt'}\n",
            "{'accuracy': 0.6722584653619137, 'precision': 0.2606473594548552, 'recall': 0.6206896551724138, 'f1': 0.367126574685063}\n"
          ]
        }
      ],
      "source": [
        "X_tr_dt = X_train[:, [list(X.columns).index(f) for f in selected_dt]]\n",
        "gs_dt2 = GridSearchCV(DecisionTreeClassifier(class_weight='balanced', random_state=42), param_grid_dt, cv=10, scoring='f1', n_jobs=-1)\n",
        "gs_dt2.fit(X_tr_dt, y_train)\n",
        "print('DT после фильтрации, параметры:', gs_dt2.best_params_)\n",
        "y_pred_dt2 = gs_dt2.best_estimator_.predict(X_tr_dt)\n",
        "print({\n",
        "    'accuracy': accuracy_score(y_train, y_pred_dt2),\n",
        "    'precision': precision_score(y_train, y_pred_dt2),\n",
        "    'recall': recall_score(y_train, y_pred_dt2),\n",
        "    'f1': f1_score(y_train, y_pred_dt2)\n",
        "})"
      ]
    },
    {
      "cell_type": "markdown",
      "metadata": {},
      "source": [
        "## 4. Случайный лес\n",
        "\n"
      ]
    },
    {
      "cell_type": "code",
      "execution_count": 185,
      "metadata": {},
      "outputs": [
        {
          "name": "stdout",
          "output_type": "stream",
          "text": [
            "Лучшие параметры RF: {'max_depth': 5, 'max_features': 'sqrt', 'n_estimators': 100}\n",
            "{'accuracy': 0.7769493631562597, 'precision': 0.3619631901840491, 'recall': 0.5983772819472617, 'f1': 0.4510703363914373}\n",
            "Top-10 важностей RF:\n",
            " Reginol Node Positive                  0.174719\n",
            "6th Stage_IIIC                         0.102375\n",
            "Progesterone Status_Positive           0.099299\n",
            "N Stage_N3                             0.089799\n",
            "Tumor Size                             0.084341\n",
            "Age                                    0.076931\n",
            "Estrogen Status_Positive               0.072470\n",
            "differentiate_Poorly differentiated    0.046142\n",
            "Regional Node Examined                 0.044115\n",
            "Grade_3                                0.037282\n",
            "dtype: float64\n",
            "Отобранные признаки RF: ['Reginol Node Positive', '6th Stage_IIIC', 'Progesterone Status_Positive', 'N Stage_N3', 'Tumor Size', 'Age', 'Estrogen Status_Positive', 'differentiate_Poorly differentiated', 'Regional Node Examined', 'Grade_3']\n",
            "RF после фильтрации, параметры: {'max_depth': None, 'max_features': 'sqrt', 'n_estimators': 50}\n",
            "{'accuracy': 0.9956508232370301, 'precision': 0.9958592132505176, 'recall': 0.9756592292089249, 'f1': 0.985655737704918}\n"
          ]
        }
      ],
      "source": [
        "param_grid_rf = {'n_estimators': [50, 100, 200], 'max_depth': [None, 5, 10], 'max_features': ['sqrt', 'log2']}\n",
        "gs_rf = GridSearchCV(RandomForestClassifier(class_weight='balanced_subsample', random_state=42), param_grid_rf, cv=10, scoring='f1', n_jobs=-1)\n",
        "gs_rf.fit(X_train, y_train)\n",
        "best_rf = gs_rf.best_estimator_\n",
        "print('Лучшие параметры RF:', gs_rf.best_params_)\n",
        "\n",
        "# 4.2 Метрики на тренировке\n",
        "y_pred_rf = best_rf.predict(X_train)\n",
        "print({\n",
        "    'accuracy': accuracy_score(y_train, y_pred_rf),\n",
        "    'precision': precision_score(y_train, y_pred_rf),\n",
        "    'recall': recall_score(y_train, y_pred_rf),\n",
        "    'f1': f1_score(y_train, y_pred_rf)\n",
        "})\n",
        "\n",
        "# 4.3 Важности и фильтрация\n",
        "importances_rf = pd.Series(best_rf.feature_importances_, index=X.columns).sort_values(ascending=False)\n",
        "print('Top-10 важностей RF:\\n', importances_rf.head(10))\n",
        "threshold_rf = importances_rf.mean()\n",
        "selected_rf = importances_rf[importances_rf > threshold_rf].index.tolist()\n",
        "print('Отобранные признаки RF:', selected_rf)\n",
        "\n",
        "# 4.4 Повторный GridSearch\n",
        "X_tr_rf = X_train[:, [list(X.columns).index(f) for f in selected_rf]]\n",
        "gs_rf2 = GridSearchCV(RandomForestClassifier(random_state=42), param_grid_rf, cv=10, scoring='recall', n_jobs=-1)\n",
        "gs_rf2.fit(X_tr_rf, y_train)\n",
        "print('RF после фильтрации, параметры:', gs_rf2.best_params_)\n",
        "y_pred_rf2 = gs_rf2.best_estimator_.predict(X_tr_rf)\n",
        "print({\n",
        "    'accuracy': accuracy_score(y_train, y_pred_rf2),\n",
        "    'precision': precision_score(y_train, y_pred_rf2),\n",
        "    'recall': recall_score(y_train, y_pred_rf2),\n",
        "    'f1': f1_score(y_train, y_pred_rf2)\n",
        "})"
      ]
    },
    {
      "cell_type": "markdown",
      "metadata": {},
      "source": [
        "## 5. Метод ближайших соседей\n"
      ]
    },
    {
      "cell_type": "code",
      "execution_count": 186,
      "metadata": {},
      "outputs": [
        {
          "name": "stdout",
          "output_type": "stream",
          "text": [
            "Лучшие параметры KNN: {'n_neighbors': 3}\n",
            "{'accuracy': 0.893134513824169, 'precision': 0.7811320754716982, 'recall': 0.4198782961460446, 'f1': 0.5461741424802111}\n"
          ]
        }
      ],
      "source": [
        "param_grid_knn = {'n_neighbors': list(range(3, 16, 2))}\n",
        "gs_knn = GridSearchCV(KNeighborsClassifier(), param_grid_knn, cv=10, scoring='f1', n_jobs=-1)\n",
        "gs_knn.fit(X_train, y_train)\n",
        "best_knn = gs_knn.best_estimator_\n",
        "print('Лучшие параметры KNN:', gs_knn.best_params_)\n",
        "\n",
        "# 5.2 Метрики на тренировке\n",
        "y_pred_knn = best_knn.predict(X_train)\n",
        "print({\n",
        "    'accuracy': accuracy_score(y_train, y_pred_knn),\n",
        "    'precision': precision_score(y_train, y_pred_knn),\n",
        "    'recall': recall_score(y_train, y_pred_knn),\n",
        "    'f1': f1_score(y_train, y_pred_knn)\n",
        "})"
      ]
    },
    {
      "cell_type": "markdown",
      "metadata": {},
      "source": [
        "## 6. Пересечение признаков"
      ]
    },
    {
      "cell_type": "code",
      "execution_count": 187,
      "metadata": {},
      "outputs": [
        {
          "name": "stdout",
          "output_type": "stream",
          "text": [
            "Общие признаки для финальной модели: ['Estrogen Status_Positive', 'Reginol Node Positive', 'N Stage_N3', 'differentiate_Poorly differentiated']\n"
          ]
        }
      ],
      "source": [
        "improved = (\n",
        "    gs_dt2.best_score_ > gs_dt.best_score_ or\n",
        "    gs_rf2.best_score_ > gs_rf.best_score_\n",
        "    )\n",
        "common_feats = list(set(selected_dt) & set(selected_rf) & set(importances_rf.head(10).index)) if improved else []\n",
        "print('Общие признаки для финальной модели:', common_feats)"
      ]
    },
    {
      "cell_type": "markdown",
      "metadata": {},
      "source": [
        "## 7. Оценка на тестовой выборке и визуализация"
      ]
    },
    {
      "cell_type": "code",
      "execution_count": 188,
      "metadata": {},
      "outputs": [
        {
          "name": "stdout",
          "output_type": "stream",
          "text": [
            "DT Test: {'accuracy': 0.5937888198757764, 'precision': 0.211864406779661, 'recall': 0.6097560975609756, 'f1': 0.31446540880503143}\n",
            "RF Test: {'accuracy': 0.737888198757764, 'precision': 0.2962962962962963, 'recall': 0.5203252032520326, 'f1': 0.3775811209439528}\n",
            "KNN Test: {'accuracy': 0.8273291925465839, 'precision': 0.375, 'recall': 0.1951219512195122, 'f1': 0.25668449197860965}\n",
            "|--- N Stage_N3 <= 1.19\n",
            "|   |--- Estrogen Status_Positive <= -1.73\n",
            "|   |   |--- Tumor Size <= 0.10\n",
            "|   |   |   |--- class: 0\n",
            "|   |   |--- Tumor Size >  0.10\n",
            "|   |   |   |--- class: 1\n",
            "|   |--- Estrogen Status_Positive >  -1.73\n",
            "|   |   |--- Reginol Node Positive <= 0.07\n",
            "|   |   |   |--- class: 0\n",
            "|   |   |--- Reginol Node Positive >  0.07\n",
            "|   |   |   |--- class: 0\n",
            "|--- N Stage_N3 >  1.19\n",
            "|   |--- Estrogen Status_Positive <= -1.73\n",
            "|   |   |--- Regional Node Examined <= -0.11\n",
            "|   |   |   |--- class: 0\n",
            "|   |   |--- Regional Node Examined >  -0.11\n",
            "|   |   |   |--- class: 1\n",
            "|   |--- Estrogen Status_Positive >  -1.73\n",
            "|   |   |--- Reginol Node Positive <= 2.02\n",
            "|   |   |   |--- class: 0\n",
            "|   |   |--- Reginol Node Positive >  2.02\n",
            "|   |   |   |--- class: 0\n",
            "\n"
          ]
        }
      ],
      "source": [
        "# 7.1 Оценка моделей на тесте\n",
        "models = {'DT': best_dt, 'RF': best_rf, 'KNN': best_knn}\n",
        "for name, m in models.items():\n",
        "    y_pred = m.predict(X_test)\n",
        "    print(f\"{name} Test:\", {\n",
        "        'accuracy': accuracy_score(y_test, y_pred),\n",
        "        'precision': precision_score(y_test, y_pred),\n",
        "        'recall': recall_score(y_test, y_pred),\n",
        "        'f1': f1_score(y_test, y_pred)\n",
        "    })\n",
        "\n",
        "# 7.2 Текстовая визуализация дерева (depth=3)\n",
        "small_tree = DecisionTreeClassifier(max_depth=3, random_state=42)\n",
        "small_tree.fit(X_train, y_train)\n",
        "print(export_text(small_tree, feature_names=list(X.columns)))"
      ]
    },
    {
      "cell_type": "code",
      "execution_count": 189,
      "metadata": {},
      "outputs": [],
      "source": [
        "from sklearn.ensemble import VotingClassifier\n",
        "from sklearn.pipeline import Pipeline\n",
        "\n",
        "ensemble = VotingClassifier(estimators=[\n",
        "    ('dt', DecisionTreeClassifier(class_weight='balanced')),\n",
        "    ('rf', RandomForestClassifier(class_weight='balanced_subsample')),\n",
        "    ('knn', KNeighborsClassifier(weights='distance', n_neighbors=3))\n",
        "], voting='soft')\n",
        "\n",
        "ensemble.fit(X_train, y_train)\n",
        "y_pred = ensemble.predict(X_test)\n"
      ]
    },
    {
      "cell_type": "code",
      "execution_count": 190,
      "metadata": {},
      "outputs": [
        {
          "name": "stdout",
          "output_type": "stream",
          "text": [
            "Итоговые метрики после оптимизации порога:\n",
            "{'accuracy': 0.21739130434782608, 'precision': 0.16245006657789615, 'recall': 0.991869918699187, 'f1': 0.2791762013729977}\n"
          ]
        }
      ],
      "source": [
        "pipe = Pipeline([\n",
        "    ('scaler', StandardScaler()),\n",
        "    ('rf', RandomForestClassifier(class_weight='balanced_subsample', random_state=42))\n",
        "])\n",
        "\n",
        "param_grid = {\n",
        "    'rf__n_estimators': [50, 100],\n",
        "    'rf__max_depth': [5, 7],\n",
        "    'rf__min_samples_leaf': [10, 20]\n",
        "}\n",
        "\n",
        "gs = GridSearchCV(pipe, param_grid, scoring='precision', cv=5, n_jobs=-1)\n",
        "gs.fit(X_train, y_train)\n",
        "\n",
        "# Сдвигаем порог вероятностей:\n",
        "y_pred_proba = gs.predict_proba(X_test)[:, 1]\n",
        "y_pred = (y_pred_proba >= 0.25).astype(int)\n",
        "\n",
        "print('Итоговые метрики после оптимизации порога:')\n",
        "print({\n",
        "    'accuracy': accuracy_score(y_test, y_pred),\n",
        "    'precision': precision_score(y_test, y_pred),\n",
        "    'recall': recall_score(y_test, y_pred),\n",
        "    'f1': f1_score(y_test, y_pred)\n",
        "})\n"
      ]
    },
    {
      "cell_type": "markdown",
      "metadata": {},
      "source": [
        "## Выводы\n",
        "\n",
        "- **DecisionTreeClassifier**: Показал [указать результаты, например, высокую точность, но склонность к переобучению].\n",
        "- **RandomForestClassifier**: Дал [указать результаты, например, лучшие метрики за счёт ансамблевого подхода].\n",
        "- **KNeighborsClassifier**: [Указать результаты, например, чувствительность к выбору k].\n",
        "- Фильтрация признаков [улучшила/не улучшила] метрики для [указать моделей].\n",
        "- На тестовой выборке лучшей моделью оказалась [указать модель] с метриками [указать значения]."
      ]
    }
  ],
  "metadata": {
    "kernelspec": {
      "display_name": "nir",
      "language": "python",
      "name": "python3"
    },
    "language_info": {
      "codemirror_mode": {
        "name": "ipython",
        "version": 3
      },
      "file_extension": ".py",
      "mimetype": "text/x-python",
      "name": "python",
      "nbconvert_exporter": "python",
      "pygments_lexer": "ipython3",
      "version": "3.10.15"
    }
  },
  "nbformat": 4,
  "nbformat_minor": 4
}
